{
 "cells": [
  {
   "cell_type": "code",
   "execution_count": 1,
   "id": "58a62221",
   "metadata": {},
   "outputs": [],
   "source": [
    "from orion.data import load_signal, load_anomalies\n",
    "import pandas as pd\n",
    "import numpy as np\n",
    "import os"
   ]
  },
  {
   "cell_type": "code",
   "execution_count": 2,
   "id": "5647bd5f",
   "metadata": {},
   "outputs": [],
   "source": [
    "datasets = {\"MSL\": [\"M-6\", \"M-1\", \"M-2\", \"S-2\", \"P-10\", \"T-4\", \"T-5\", \"F-7\", \"M-3\", \"M-4\", \"M-5\", \"P-15\", \"C-1\", \"C-2\", \"T-12\", \"T-13\", \"F-4\", \"F-5\", \"D-14\", \"T-9\", \"P-14\", \"T-8\", \"P-11\", \"D-15\", \"D-16\", \"M-7\", \"F-8\"],\n",
    "            \"SMAP\": [\"P-1\", \"S-1\", \"E-1\", \"E-2\", \"E-3\", \"E-4\", \"E-5\", \"E-6\", \"E-7\", \"E-8\", \"E-9\", \"E-10\", \"E-11\", \"E-12\", \"E-13\", \"A-1\", \"D-1\", \"P-2\", \"P-3\", \"D-2\", \"D-3\", \"D-4\", \"A-2\", \"A-3\", \"A-4\", \"G-1\", \"G-2\", \"D-5\", \"D-6\", \"D-7\", \"F-1\", \"P-4\", \"G-3\", \"T-1\", \"T-2\", \"D-8\", \"D-9\", \"F-2\", \"G-4\", \"T-3\", \"D-11\", \"D-12\", \"B-1\", \"G-6\", \"G-7\", \"P-7\", \"R-1\", \"A-5\", \"A-6\", \"A-7\", \"D-13\", \"P-2\", \"A-8\", \"A-9\", \"F-3\"]\n",
    "           }\n",
    "\n",
    "modes = [\"train\", \"test\", \"labels\"]\n",
    "\n",
    "#set path where all folders to run code are\n",
    "base_path = \"/home/lunet/cosoc/Desktop/orion_anomaly_pipeline\"\n"
   ]
  },
  {
   "cell_type": "code",
   "execution_count": 3,
   "id": "f9e6c15b",
   "metadata": {},
   "outputs": [],
   "source": [
    "#reads file with labels\n",
    "label_file = pd.read_csv(base_path + \"/datasets_unprocessed/MSL_SMAP/labels.csv\")"
   ]
  },
  {
   "cell_type": "code",
   "execution_count": 14,
   "id": "6a12930c",
   "metadata": {},
   "outputs": [
    {
     "name": "stdout",
     "output_type": "stream",
     "text": [
      "M-6\n",
      "M-1\n",
      "M-2\n",
      "S-2\n",
      "P-10\n",
      "T-4\n",
      "T-5\n",
      "F-7\n",
      "M-3\n",
      "M-4\n",
      "M-5\n",
      "P-15\n",
      "C-1\n",
      "C-2\n",
      "T-12\n",
      "T-13\n",
      "F-4\n",
      "F-5\n",
      "D-14\n",
      "T-9\n",
      "P-14\n",
      "T-8\n",
      "P-11\n",
      "D-15\n",
      "D-16\n",
      "M-7\n",
      "F-8\n"
     ]
    }
   ],
   "source": [
    "#for dataset in datasets.keys():\n",
    "    \n",
    "dataset = \"MSL\"\n",
    "    \n",
    "for sensor in datasets[dataset]:\n",
    "    print(sensor)\n",
    "    for mode in modes:\n",
    "        if mode == \"labels\":\n",
    "            anomalies = label_file.loc[label_file['chan_id']==sensor][\"anomaly_sequences\"]\n",
    "            anomalies = list(anomalies)[0]\n",
    "            anomalies = anomalies.replace(\"[\",\"\")\n",
    "            anomalies = anomalies.replace(\"]\",\"\")\n",
    "            anomalies = anomalies.split(\",\")\n",
    "            label = {\"start\":[], \"end\":[]}\n",
    "\n",
    "            for i in list(range(0,len(anomalies),2)):\n",
    "                label[\"start\"].append(anomalies[i])\n",
    "                label[\"end\"].append(anomalies[i+1])\n",
    "                \n",
    "            df = pd.DataFrame.from_dict(label)\n",
    "            path = os.path.join(base_path, \"datasets\", dataset, mode, sensor) + \".csv\"\n",
    "            df.to_csv(path, index=False)\n",
    "        \n",
    "        else:\n",
    "            data = np.load(os.path.join(base_path, \"datasets_unprocessed/MSL_SMAP\", mode, sensor) + \".npy\")\n",
    "            timestamp = list(range(len(data)))\n",
    "            value = []\n",
    "            for i in range(len(data)):\n",
    "                value.append(data[i][0])\n",
    "\n",
    "            header = {'timestamp': timestamp, 'value': value}\n",
    "            df = pd.DataFrame(data=header)\n",
    "            path = os.path.join(base_path, \"datasets\", dataset, mode, sensor) + \".csv\"\n",
    "            df.to_csv(path, index=False)"
   ]
  },
  {
   "cell_type": "code",
   "execution_count": null,
   "id": "35e4f728",
   "metadata": {},
   "outputs": [],
   "source": []
  },
  {
   "cell_type": "code",
   "execution_count": null,
   "id": "23ca9b56",
   "metadata": {},
   "outputs": [],
   "source": []
  }
 ],
 "metadata": {
  "kernelspec": {
   "display_name": "Python 3 (ipykernel)",
   "language": "python",
   "name": "python3"
  },
  "language_info": {
   "codemirror_mode": {
    "name": "ipython",
    "version": 3
   },
   "file_extension": ".py",
   "mimetype": "text/x-python",
   "name": "python",
   "nbconvert_exporter": "python",
   "pygments_lexer": "ipython3",
   "version": "3.7.16"
  }
 },
 "nbformat": 4,
 "nbformat_minor": 5
}
